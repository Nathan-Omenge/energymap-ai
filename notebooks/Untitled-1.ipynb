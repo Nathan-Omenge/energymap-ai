{
 "cells": [
  {
   "cell_type": "code",
   "execution_count": null,
   "id": "b81c6931",
   "metadata": {},
   "outputs": [],
   "source": [
    "# ==========================================================\n",
    "#  EnergyMap.AI — Phase 1: Data Fetch Notebook\n",
    "# ==========================================================\n",
    "\n",
    "import os\n",
    "import geopandas as gpd\n",
    "import osmnx as ox\n",
    "\n",
    "# --- Ensure data_raw folder exists ---\n",
    "os.makedirs(\"../data_raw\", exist_ok=True)\n",
    "\n",
    "# --- Step 1: Get Kenya administrative boundary ---\n",
    "print(\"Fetching Kenya boundary…\")\n",
    "gdf_admin = ox.geocode_to_gdf(\"Kenya\")\n",
    "gdf_admin.to_file(\"../data_raw/kenya_boundary.geojson\", driver=\"GeoJSON\")\n",
    "print(\"Saved: kenya_boundary.geojson\")\n",
    "\n",
    "# --- Step 2: Fetch Roads from OSM ---\n",
    "country_polygon = gdf_admin.to_crs(4326).geometry.iloc[0]\n",
    "print(\"Fetching road data…\")\n",
    "\n",
    "gdf_roads = ox.features_from_polygon(country_polygon, tags={\"highway\": True}).to_crs(4326)\n",
    "gdf_roads.to_file(\"../data_raw/roads.geojson\", driver=\"GeoJSON\")\n",
    "print(f\" Saved: roads.geojson with {len(gdf_roads)} features\")\n",
    "\n",
    "# --- Step 3: Fetch Power Lines (may be sparse) ---\n",
    "print(\"Fetching power lines…\")\n",
    "try:\n",
    "    gdf_power = ox.features_from_polygon(country_polygon, tags={\"power\": [\"line\", \"minor_line\"]}).to_crs(4326)\n",
    "    gdf_power.to_file(\"../data_raw/power_lines.geojson\", driver=\"GeoJSON\")\n",
    "    print(f\" Saved: power_lines.geojson with {len(gdf_power)} features\")\n",
    "except Exception as e:\n",
    "    print(\" Power line data may be sparse or missing:\", e)\n",
    "\n",
    "print(\" Data fetch complete.\")"
   ]
  }
 ],
 "metadata": {
  "kernelspec": {
   "display_name": "Python 3",
   "language": "python",
   "name": "python3"
  },
  "language_info": {
   "name": "python",
   "version": "3.12.0"
  }
 },
 "nbformat": 4,
 "nbformat_minor": 5
}
