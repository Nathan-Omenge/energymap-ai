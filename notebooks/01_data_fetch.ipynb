{
 "cells": [
  {
   "cell_type": "code",
   "execution_count": null,
   "id": "5f866b30",
   "metadata": {},
   "outputs": [
    {
     "name": "stdout",
     "output_type": "stream",
     "text": [
      "Fetching Kenya boundary…\n",
      "Saved: kenya_boundary.geojson\n",
      "Fetching road data…\n"
     ]
    },
    {
     "name": "stderr",
     "output_type": "stream",
     "text": [
      "/Users/nathanomenge/Desktop/energymap-ai/venv_energymap/lib/python3.9/site-packages/osmnx/_overpass.py:271: UserWarning: This area is 291 times your configured Overpass max query area size. It will automatically be divided up into multiple sub-queries accordingly. This may take a long time.\n",
      "  multi_poly_proj = utils_geo._consolidate_subdivide_geometry(poly_proj)\n",
      "Exception ignored in: <bound method IPythonKernel._clean_thread_parent_frames of <ipykernel.ipkernel.IPythonKernel object at 0x7fec588fcb20>>\n",
      "Traceback (most recent call last):\n",
      "  File \"/Users/nathanomenge/Desktop/energymap-ai/venv_energymap/lib/python3.9/site-packages/ipykernel/ipkernel.py\", line 781, in _clean_thread_parent_frames\n",
      "    def _clean_thread_parent_frames(\n",
      "KeyboardInterrupt: \n"
     ]
    }
   ],
   "source": [
    "# ==========================================================\n",
    "#  EnergyMap.AI — Phase 1: Data Fetch Notebook\n",
    "# ==========================================================\n",
    "\n",
    "import os\n",
    "import geopandas as gpd\n",
    "import osmnx as ox\n",
    "\n",
    "# --- Ensure data_raw folder exists ---\n",
    "os.makedirs(\"../data_raw\", exist_ok=True)\n",
    "\n",
    "# --- Step 1: Get Kenya administrative boundary ---\n",
    "print(\"Fetching Kenya boundary…\")\n",
    "gdf_admin = ox.geocode_to_gdf(\"Kenya\")\n",
    "gdf_admin.to_file(\"../data_raw/kenya_boundary.geojson\", driver=\"GeoJSON\")\n",
    "print(\"Saved: kenya_boundary.geojson\")\n",
    "\n",
    "# --- Step 2: Fetch Roads from OSM ---\n",
    "country_polygon = gdf_admin.to_crs(4326).geometry.iloc[0]\n",
    "print(\"Fetching road data…\")\n",
    "\n",
    "gdf_roads = ox.features_from_polygon(country_polygon, tags={\"highway\": True}).to_crs(4326)\n",
    "gdf_roads.to_file(\"../data_raw/roads.geojson\", driver=\"GeoJSON\")\n",
    "print(f\" Saved: roads.geojson with {len(gdf_roads)} features\")\n",
    "\n",
    "# --- Step 3: Fetch Power Lines (may be sparse) ---\n",
    "print(\"Fetching power lines…\")\n",
    "try:\n",
    "    gdf_power = ox.features_from_polygon(country_polygon, tags={\"power\": [\"line\", \"minor_line\"]}).to_crs(4326)\n",
    "    gdf_power.to_file(\"../data_raw/power_lines.geojson\", driver=\"GeoJSON\")\n",
    "    print(f\" Saved: power_lines.geojson with {len(gdf_power)} features\")\n",
    "except Exception as e:\n",
    "    print(\" Power line data may be sparse or missing:\", e)\n",
    "\n",
    "print(\" Data fetch complete.\")"
   ]
  }
 ],
 "metadata": {
  "kernelspec": {
   "display_name": "venv_energymap",
   "language": "python",
   "name": "python3"
  },
  "language_info": {
   "codemirror_mode": {
    "name": "ipython",
    "version": 3
   },
   "file_extension": ".py",
   "mimetype": "text/x-python",
   "name": "python",
   "nbconvert_exporter": "python",
   "pygments_lexer": "ipython3",
   "version": "3.9.13"
  }
 },
 "nbformat": 4,
 "nbformat_minor": 5
}
