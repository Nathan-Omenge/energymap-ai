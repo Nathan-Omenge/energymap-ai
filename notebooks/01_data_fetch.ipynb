{
 "cells": [
  {
   "cell_type": "code",
   "execution_count": 3,
   "id": "5f866b30",
   "metadata": {},
   "outputs": [
    {
     "ename": "KeyboardInterrupt",
     "evalue": "",
     "output_type": "error",
     "traceback": [
      "\u001b[0;31m---------------------------------------------------------------------------\u001b[0m",
      "\u001b[0;31mKeyboardInterrupt\u001b[0m                         Traceback (most recent call last)",
      "Cell \u001b[0;32mIn[3], line 7\u001b[0m\n\u001b[1;32m      5\u001b[0m \u001b[38;5;28;01mimport\u001b[39;00m \u001b[38;5;21;01mos\u001b[39;00m\n\u001b[1;32m      6\u001b[0m \u001b[38;5;28;01mimport\u001b[39;00m \u001b[38;5;21;01mgeopandas\u001b[39;00m \u001b[38;5;28;01mas\u001b[39;00m \u001b[38;5;21;01mgpd\u001b[39;00m\n\u001b[0;32m----> 7\u001b[0m \u001b[38;5;28;01mimport\u001b[39;00m \u001b[38;5;21;01mosmnx\u001b[39;00m \u001b[38;5;28;01mas\u001b[39;00m \u001b[38;5;21;01mox\u001b[39;00m\n\u001b[1;32m      9\u001b[0m \u001b[38;5;66;03m# --- Ensure data_raw folder exists ---\u001b[39;00m\n\u001b[1;32m     10\u001b[0m os\u001b[38;5;241m.\u001b[39mmakedirs(\u001b[38;5;124m\"\u001b[39m\u001b[38;5;124m../data_raw\u001b[39m\u001b[38;5;124m\"\u001b[39m, exist_ok\u001b[38;5;241m=\u001b[39m\u001b[38;5;28;01mTrue\u001b[39;00m)\n",
      "File \u001b[0;32m~/Library/Python/3.12/lib/python/site-packages/osmnx/__init__.py:21\u001b[0m\n\u001b[1;32m     19\u001b[0m \u001b[38;5;28;01mfrom\u001b[39;00m \u001b[38;5;21;01m.\u001b[39;00m \u001b[38;5;28;01mimport\u001b[39;00m convert \u001b[38;5;28;01mas\u001b[39;00m convert\n\u001b[1;32m     20\u001b[0m \u001b[38;5;28;01mfrom\u001b[39;00m \u001b[38;5;21;01m.\u001b[39;00m \u001b[38;5;28;01mimport\u001b[39;00m distance \u001b[38;5;28;01mas\u001b[39;00m distance\n\u001b[0;32m---> 21\u001b[0m \u001b[38;5;28;01mfrom\u001b[39;00m \u001b[38;5;21;01m.\u001b[39;00m \u001b[38;5;28;01mimport\u001b[39;00m elevation \u001b[38;5;28;01mas\u001b[39;00m elevation\n\u001b[1;32m     22\u001b[0m \u001b[38;5;28;01mfrom\u001b[39;00m \u001b[38;5;21;01m.\u001b[39;00m \u001b[38;5;28;01mimport\u001b[39;00m features \u001b[38;5;28;01mas\u001b[39;00m features\n\u001b[1;32m     23\u001b[0m \u001b[38;5;28;01mfrom\u001b[39;00m \u001b[38;5;21;01m.\u001b[39;00m \u001b[38;5;28;01mimport\u001b[39;00m geocoder \u001b[38;5;28;01mas\u001b[39;00m geocoder\n",
      "File \u001b[0;32m~/Library/Python/3.12/lib/python/site-packages/osmnx/elevation.py:28\u001b[0m\n\u001b[1;32m     26\u001b[0m \u001b[38;5;66;03m# rasterio and rio-vrt are optional dependencies for raster querying\u001b[39;00m\n\u001b[1;32m     27\u001b[0m \u001b[38;5;28;01mtry\u001b[39;00m:\n\u001b[0;32m---> 28\u001b[0m     \u001b[38;5;28;01mimport\u001b[39;00m \u001b[38;5;21;01mrasterio\u001b[39;00m\n\u001b[1;32m     29\u001b[0m \u001b[38;5;28;01mexcept\u001b[39;00m \u001b[38;5;167;01mImportError\u001b[39;00m:  \u001b[38;5;66;03m# pragma: no cover\u001b[39;00m\n\u001b[1;32m     30\u001b[0m     rasterio \u001b[38;5;241m=\u001b[39m \u001b[38;5;28;01mNone\u001b[39;00m\n",
      "File \u001b[0;32m~/Library/Python/3.12/lib/python/site-packages/rasterio/__init__.py:26\u001b[0m\n\u001b[1;32m     23\u001b[0m                     os\u001b[38;5;241m.\u001b[39madd_dll_directory(os\u001b[38;5;241m.\u001b[39mpath\u001b[38;5;241m.\u001b[39mabspath(p))\n\u001b[1;32m     25\u001b[0m \u001b[38;5;28;01mfrom\u001b[39;00m \u001b[38;5;21;01mrasterio\u001b[39;00m\u001b[38;5;21;01m.\u001b[39;00m\u001b[38;5;21;01m_base\u001b[39;00m \u001b[38;5;28;01mimport\u001b[39;00m DatasetBase\n\u001b[0;32m---> 26\u001b[0m \u001b[38;5;28;01mfrom\u001b[39;00m \u001b[38;5;21;01mrasterio\u001b[39;00m\u001b[38;5;21;01m.\u001b[39;00m\u001b[38;5;21;01m_io\u001b[39;00m \u001b[38;5;28;01mimport\u001b[39;00m Statistics\n\u001b[1;32m     27\u001b[0m \u001b[38;5;28;01mfrom\u001b[39;00m \u001b[38;5;21;01mrasterio\u001b[39;00m\u001b[38;5;21;01m.\u001b[39;00m\u001b[38;5;21;01m_vsiopener\u001b[39;00m \u001b[38;5;28;01mimport\u001b[39;00m _opener_registration\n\u001b[1;32m     28\u001b[0m \u001b[38;5;28;01mfrom\u001b[39;00m \u001b[38;5;21;01mrasterio\u001b[39;00m\u001b[38;5;21;01m.\u001b[39;00m\u001b[38;5;21;01m_show_versions\u001b[39;00m \u001b[38;5;28;01mimport\u001b[39;00m show_versions\n",
      "File \u001b[0;32m<frozen importlib._bootstrap>:645\u001b[0m, in \u001b[0;36mparent\u001b[0;34m(self)\u001b[0m\n",
      "\u001b[0;31mKeyboardInterrupt\u001b[0m: "
     ]
    }
   ],
   "source": [
    "# ==========================================================\n",
    "#  EnergyMap.AI — Phase 1: Data Fetch Notebook\n",
    "# ==========================================================\n",
    "\n",
    "import os\n",
    "import geopandas as gpd\n",
    "import osmnx as ox\n",
    "\n",
    "# --- Ensure data_raw folder exists ---\n",
    "os.makedirs(\"../data_raw\", exist_ok=True)\n",
    "\n",
    "# --- Step 1: Get Kenya administrative boundary ---\n",
    "print(\"Fetching Kenya boundary…\")\n",
    "gdf_admin = ox.geocode_to_gdf(\"Kenya\")\n",
    "gdf_admin.to_file(\"../data_raw/kenya_boundary.geojson\", driver=\"GeoJSON\")\n",
    "print(\"Saved: kenya_boundary.geojson\")\n",
    "\n",
    "# --- Step 2: Fetch Roads from OSM ---\n",
    "country_polygon = gdf_admin.to_crs(4326).geometry.iloc[0]\n",
    "print(\"Fetching road data…\")\n",
    "\n",
    "gdf_roads = ox.features_from_polygon(country_polygon, tags={\"highway\": True}).to_crs(4326)\n",
    "gdf_roads.to_file(\"../data_raw/roads.geojson\", driver=\"GeoJSON\")\n",
    "print(f\" Saved: roads.geojson with {len(gdf_roads)} features\")\n",
    "\n",
    "# --- Step 3: Fetch Power Lines (may be sparse) ---\n",
    "print(\"Fetching power lines…\")\n",
    "try:\n",
    "    gdf_power = ox.features_from_polygon(country_polygon, tags={\"power\": [\"line\", \"minor_line\"]}).to_crs(4326)\n",
    "    gdf_power.to_file(\"../data_raw/power_lines.geojson\", driver=\"GeoJSON\")\n",
    "    print(f\" Saved: power_lines.geojson with {len(gdf_power)} features\")\n",
    "except Exception as e:\n",
    "    print(\" Power line data may be sparse or missing:\", e)\n",
    "\n",
    "print(\" Data fetch complete.\")"
   ]
  }
 ],
 "metadata": {
  "kernelspec": {
   "display_name": "Python 3",
   "language": "python",
   "name": "python3"
  },
  "language_info": {
   "codemirror_mode": {
    "name": "ipython",
    "version": 3
   },
   "file_extension": ".py",
   "mimetype": "text/x-python",
   "name": "python",
   "nbconvert_exporter": "python",
   "pygments_lexer": "ipython3",
   "version": "3.12.0"
  }
 },
 "nbformat": 4,
 "nbformat_minor": 5
}
